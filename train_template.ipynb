{
 "cells": [
  {
   "cell_type": "code",
   "execution_count": 23,
   "id": "606cb256-b03b-48c1-a432-56378b3de8cf",
   "metadata": {},
   "outputs": [
    {
     "name": "stdout",
     "output_type": "stream",
     "text": [
      "Requirement already satisfied: tensorflow in c:\\programdata\\anaconda3\\lib\\site-packages (2.5.0)\n",
      "Requirement already satisfied: keras-preprocessing~=1.1.2 in c:\\programdata\\anaconda3\\lib\\site-packages (from tensorflow) (1.1.2)\n",
      "Requirement already satisfied: astunparse~=1.6.3 in c:\\programdata\\anaconda3\\lib\\site-packages (from tensorflow) (1.6.3)\n",
      "Requirement already satisfied: keras-nightly~=2.5.0.dev in c:\\programdata\\anaconda3\\lib\\site-packages (from tensorflow) (2.5.0.dev2021032900)\n",
      "Requirement already satisfied: google-pasta~=0.2 in c:\\programdata\\anaconda3\\lib\\site-packages (from tensorflow) (0.2.0)\n",
      "Requirement already satisfied: tensorflow-estimator<2.6.0,>=2.5.0rc0 in c:\\programdata\\anaconda3\\lib\\site-packages (from tensorflow) (2.5.0)\n",
      "Requirement already satisfied: numpy~=1.19.2 in c:\\programdata\\anaconda3\\lib\\site-packages (from tensorflow) (1.19.5)\n",
      "Requirement already satisfied: h5py~=3.1.0 in c:\\programdata\\anaconda3\\lib\\site-packages (from tensorflow) (3.1.0)\n",
      "Requirement already satisfied: six~=1.15.0 in c:\\programdata\\anaconda3\\lib\\site-packages (from tensorflow) (1.15.0)\n",
      "Requirement already satisfied: termcolor~=1.1.0 in c:\\programdata\\anaconda3\\lib\\site-packages (from tensorflow) (1.1.0)\n",
      "Requirement already satisfied: gast==0.4.0 in c:\\programdata\\anaconda3\\lib\\site-packages (from tensorflow) (0.4.0)\n",
      "Requirement already satisfied: typing-extensions~=3.7.4 in c:\\programdata\\anaconda3\\lib\\site-packages (from tensorflow) (3.7.4.3)\n",
      "Requirement already satisfied: wheel~=0.35 in c:\\programdata\\anaconda3\\lib\\site-packages (from tensorflow) (0.36.2)\n",
      "Requirement already satisfied: opt-einsum~=3.3.0 in c:\\programdata\\anaconda3\\lib\\site-packages (from tensorflow) (3.3.0)\n",
      "Requirement already satisfied: absl-py~=0.10 in c:\\programdata\\anaconda3\\lib\\site-packages (from tensorflow) (0.12.0)\n",
      "Requirement already satisfied: protobuf>=3.9.2 in c:\\programdata\\anaconda3\\lib\\site-packages (from tensorflow) (3.17.2)\n",
      "Requirement already satisfied: tensorboard~=2.5 in c:\\programdata\\anaconda3\\lib\\site-packages (from tensorflow) (2.5.0)\n",
      "Requirement already satisfied: grpcio~=1.34.0 in c:\\programdata\\anaconda3\\lib\\site-packages (from tensorflow) (1.34.1)\n",
      "Requirement already satisfied: flatbuffers~=1.12.0 in c:\\programdata\\anaconda3\\lib\\site-packages (from tensorflow) (1.12)\n",
      "Requirement already satisfied: wrapt~=1.12.1 in c:\\programdata\\anaconda3\\lib\\site-packages (from tensorflow) (1.12.1)\n",
      "Requirement already satisfied: google-auth<2,>=1.6.3 in c:\\programdata\\anaconda3\\lib\\site-packages (from tensorboard~=2.5->tensorflow) (1.30.1)\n",
      "Requirement already satisfied: setuptools>=41.0.0 in c:\\programdata\\anaconda3\\lib\\site-packages (from tensorboard~=2.5->tensorflow) (52.0.0.post20210125)\n",
      "Requirement already satisfied: tensorboard-plugin-wit>=1.6.0 in c:\\programdata\\anaconda3\\lib\\site-packages (from tensorboard~=2.5->tensorflow) (1.8.0)\n",
      "Requirement already satisfied: markdown>=2.6.8 in c:\\programdata\\anaconda3\\lib\\site-packages (from tensorboard~=2.5->tensorflow) (3.3.4)\n",
      "Requirement already satisfied: requests<3,>=2.21.0 in c:\\programdata\\anaconda3\\lib\\site-packages (from tensorboard~=2.5->tensorflow) (2.25.1)\n",
      "Requirement already satisfied: tensorboard-data-server<0.7.0,>=0.6.0 in c:\\programdata\\anaconda3\\lib\\site-packages (from tensorboard~=2.5->tensorflow) (0.6.1)\n",
      "Requirement already satisfied: google-auth-oauthlib<0.5,>=0.4.1 in c:\\programdata\\anaconda3\\lib\\site-packages (from tensorboard~=2.5->tensorflow) (0.4.4)\n",
      "Requirement already satisfied: werkzeug>=0.11.15 in c:\\programdata\\anaconda3\\lib\\site-packages (from tensorboard~=2.5->tensorflow) (1.0.1)\n",
      "Requirement already satisfied: cachetools<5.0,>=2.0.0 in c:\\programdata\\anaconda3\\lib\\site-packages (from google-auth<2,>=1.6.3->tensorboard~=2.5->tensorflow) (4.2.2)\n",
      "Requirement already satisfied: pyasn1-modules>=0.2.1 in c:\\programdata\\anaconda3\\lib\\site-packages (from google-auth<2,>=1.6.3->tensorboard~=2.5->tensorflow) (0.2.8)\n",
      "Requirement already satisfied: rsa<5,>=3.1.4 in c:\\programdata\\anaconda3\\lib\\site-packages (from google-auth<2,>=1.6.3->tensorboard~=2.5->tensorflow) (4.7.2)\n",
      "Requirement already satisfied: requests-oauthlib>=0.7.0 in c:\\programdata\\anaconda3\\lib\\site-packages (from google-auth-oauthlib<0.5,>=0.4.1->tensorboard~=2.5->tensorflow) (1.3.0)\n",
      "Requirement already satisfied: pyasn1<0.5.0,>=0.4.6 in c:\\programdata\\anaconda3\\lib\\site-packages (from pyasn1-modules>=0.2.1->google-auth<2,>=1.6.3->tensorboard~=2.5->tensorflow) (0.4.8)\n",
      "Requirement already satisfied: chardet<5,>=3.0.2 in c:\\programdata\\anaconda3\\lib\\site-packages (from requests<3,>=2.21.0->tensorboard~=2.5->tensorflow) (4.0.0)\n",
      "Requirement already satisfied: urllib3<1.27,>=1.21.1 in c:\\programdata\\anaconda3\\lib\\site-packages (from requests<3,>=2.21.0->tensorboard~=2.5->tensorflow) (1.26.4)\n",
      "Requirement already satisfied: idna<3,>=2.5 in c:\\programdata\\anaconda3\\lib\\site-packages (from requests<3,>=2.21.0->tensorboard~=2.5->tensorflow) (2.10)\n",
      "Requirement already satisfied: certifi>=2017.4.17 in c:\\programdata\\anaconda3\\lib\\site-packages (from requests<3,>=2.21.0->tensorboard~=2.5->tensorflow) (2021.5.30)\n",
      "Requirement already satisfied: oauthlib>=3.0.0 in c:\\programdata\\anaconda3\\lib\\site-packages (from requests-oauthlib>=0.7.0->google-auth-oauthlib<0.5,>=0.4.1->tensorboard~=2.5->tensorflow) (3.1.1)\n"
     ]
    }
   ],
   "source": [
    "!pip install tensorflow"
   ]
  },
  {
   "cell_type": "code",
   "execution_count": 28,
   "id": "012a01c1-4081-4d9c-b5d7-e4db2c62f73c",
   "metadata": {},
   "outputs": [],
   "source": [
    "import numpy as np\n",
    "import cv2\n",
    "import matplotlib.pyplot as plt\n",
    "import os\n",
    "import tensorflow as tf\n",
    "from tensorflow.keras.models import Sequential\n",
    "from tensorflow.keras.layers import Dense, Dropout, Flatten\n",
    "from tensorflow.keras.layers import Conv2D\n",
    "from tensorflow.keras.optimizers import Adam\n",
    "from tensorflow.keras.layers import MaxPooling2D\n",
    "from tensorflow.keras.preprocessing.image import ImageDataGenerator"
   ]
  },
  {
   "cell_type": "markdown",
   "id": "0dfe0881-145b-418f-888b-52b85376a34e",
   "metadata": {},
   "source": [
    " ## Model Training"
   ]
  },
  {
   "cell_type": "markdown",
   "id": "ead831d6-26fe-4682-9288-b2f2385a95c9",
   "metadata": {},
   "source": [
    "This model is relatively complex, and will require 30 minutes, or more, to fully train. \n",
    "\n",
    "**Skip ths section if you do not wish to spend time training the model. You can load a saved model in the next section.**"
   ]
  },
  {
   "cell_type": "code",
   "execution_count": 26,
   "id": "d9368cfa-4d93-4670-9517-da910bbfc155",
   "metadata": {},
   "outputs": [
    {
     "name": "stdout",
     "output_type": "stream",
     "text": [
      "Found 28709 images belonging to 7 classes.\n",
      "Found 7178 images belonging to 7 classes.\n",
      "Epoch 1/50\n",
      "448/448 [==============================] - 132s 293ms/step - loss: 1.7932 - accuracy: 0.2651 - val_loss: 1.6801 - val_accuracy: 0.3545\n",
      "Epoch 2/50\n",
      "448/448 [==============================] - 126s 282ms/step - loss: 1.6161 - accuracy: 0.3718 - val_loss: 1.5410 - val_accuracy: 0.4025\n",
      "Epoch 3/50\n",
      "448/448 [==============================] - 130s 289ms/step - loss: 1.5217 - accuracy: 0.4161 - val_loss: 1.4549 - val_accuracy: 0.4468\n",
      "Epoch 4/50\n",
      "448/448 [==============================] - 130s 289ms/step - loss: 1.4515 - accuracy: 0.4477 - val_loss: 1.3991 - val_accuracy: 0.4690\n",
      "Epoch 5/50\n",
      "448/448 [==============================] - 127s 284ms/step - loss: 1.3887 - accuracy: 0.4708 - val_loss: 1.3428 - val_accuracy: 0.4877\n",
      "Epoch 6/50\n",
      "448/448 [==============================] - 128s 285ms/step - loss: 1.3380 - accuracy: 0.4906 - val_loss: 1.3090 - val_accuracy: 0.5049\n",
      "Epoch 7/50\n",
      "448/448 [==============================] - 133s 298ms/step - loss: 1.2951 - accuracy: 0.5110 - val_loss: 1.2670 - val_accuracy: 0.5191\n",
      "Epoch 8/50\n",
      "448/448 [==============================] - 131s 292ms/step - loss: 1.2559 - accuracy: 0.5261 - val_loss: 1.2541 - val_accuracy: 0.5219\n",
      "Epoch 9/50\n",
      "448/448 [==============================] - 131s 293ms/step - loss: 1.2254 - accuracy: 0.5399 - val_loss: 1.2295 - val_accuracy: 0.5324\n",
      "Epoch 10/50\n",
      "448/448 [==============================] - 131s 293ms/step - loss: 1.1915 - accuracy: 0.5507 - val_loss: 1.2031 - val_accuracy: 0.5372\n",
      "Epoch 11/50\n",
      "448/448 [==============================] - 129s 288ms/step - loss: 1.1637 - accuracy: 0.5648 - val_loss: 1.1860 - val_accuracy: 0.5451\n",
      "Epoch 12/50\n",
      "448/448 [==============================] - 126s 282ms/step - loss: 1.1386 - accuracy: 0.5716 - val_loss: 1.1664 - val_accuracy: 0.5515\n",
      "Epoch 13/50\n",
      "448/448 [==============================] - 131s 293ms/step - loss: 1.1128 - accuracy: 0.5846 - val_loss: 1.1474 - val_accuracy: 0.5629\n",
      "Epoch 14/50\n",
      "448/448 [==============================] - 131s 292ms/step - loss: 1.0883 - accuracy: 0.5942 - val_loss: 1.1367 - val_accuracy: 0.5692\n",
      "Epoch 15/50\n",
      "448/448 [==============================] - 129s 288ms/step - loss: 1.0625 - accuracy: 0.6047 - val_loss: 1.1254 - val_accuracy: 0.5702\n",
      "Epoch 16/50\n",
      "448/448 [==============================] - 123s 275ms/step - loss: 1.0408 - accuracy: 0.6100 - val_loss: 1.1225 - val_accuracy: 0.5762\n",
      "Epoch 17/50\n",
      "448/448 [==============================] - 123s 274ms/step - loss: 1.0223 - accuracy: 0.6239 - val_loss: 1.1063 - val_accuracy: 0.5889\n",
      "Epoch 18/50\n",
      "448/448 [==============================] - 125s 279ms/step - loss: 0.9967 - accuracy: 0.6318 - val_loss: 1.1102 - val_accuracy: 0.5833\n",
      "Epoch 19/50\n",
      "448/448 [==============================] - 124s 276ms/step - loss: 0.9780 - accuracy: 0.6363 - val_loss: 1.1014 - val_accuracy: 0.5898\n",
      "Epoch 20/50\n",
      "448/448 [==============================] - 122s 273ms/step - loss: 0.9545 - accuracy: 0.6478 - val_loss: 1.0866 - val_accuracy: 0.5956\n",
      "Epoch 21/50\n",
      "448/448 [==============================] - 121s 271ms/step - loss: 0.9301 - accuracy: 0.6583 - val_loss: 1.0997 - val_accuracy: 0.5890\n",
      "Epoch 22/50\n",
      "448/448 [==============================] - 122s 272ms/step - loss: 0.9058 - accuracy: 0.6665 - val_loss: 1.0825 - val_accuracy: 0.5972\n",
      "Epoch 23/50\n",
      "448/448 [==============================] - 125s 278ms/step - loss: 0.8844 - accuracy: 0.6722 - val_loss: 1.0769 - val_accuracy: 0.6062\n",
      "Epoch 24/50\n",
      "448/448 [==============================] - 122s 272ms/step - loss: 0.8580 - accuracy: 0.6835 - val_loss: 1.0805 - val_accuracy: 0.6018\n",
      "Epoch 25/50\n",
      "448/448 [==============================] - 122s 272ms/step - loss: 0.8357 - accuracy: 0.6932 - val_loss: 1.0753 - val_accuracy: 0.6032\n",
      "Epoch 26/50\n",
      "448/448 [==============================] - 122s 272ms/step - loss: 0.8076 - accuracy: 0.7020 - val_loss: 1.0778 - val_accuracy: 0.6098\n",
      "Epoch 27/50\n",
      "448/448 [==============================] - 126s 282ms/step - loss: 0.7950 - accuracy: 0.7094 - val_loss: 1.0824 - val_accuracy: 0.6018\n",
      "Epoch 28/50\n",
      "448/448 [==============================] - 126s 282ms/step - loss: 0.7709 - accuracy: 0.7181 - val_loss: 1.0683 - val_accuracy: 0.6105\n",
      "Epoch 29/50\n",
      "448/448 [==============================] - 124s 277ms/step - loss: 0.7504 - accuracy: 0.7239 - val_loss: 1.0834 - val_accuracy: 0.6097\n",
      "Epoch 30/50\n",
      "448/448 [==============================] - 124s 277ms/step - loss: 0.7272 - accuracy: 0.7362 - val_loss: 1.0930 - val_accuracy: 0.6116\n",
      "Epoch 31/50\n",
      "448/448 [==============================] - 124s 277ms/step - loss: 0.7030 - accuracy: 0.7438 - val_loss: 1.0870 - val_accuracy: 0.6084\n",
      "Epoch 32/50\n",
      "448/448 [==============================] - 124s 276ms/step - loss: 0.6851 - accuracy: 0.7503 - val_loss: 1.0885 - val_accuracy: 0.6170\n",
      "Epoch 33/50\n",
      "448/448 [==============================] - 124s 277ms/step - loss: 0.6582 - accuracy: 0.7602 - val_loss: 1.0864 - val_accuracy: 0.6175\n",
      "Epoch 34/50\n",
      "448/448 [==============================] - 122s 272ms/step - loss: 0.6464 - accuracy: 0.7629 - val_loss: 1.1046 - val_accuracy: 0.6130\n",
      "Epoch 35/50\n",
      "448/448 [==============================] - 122s 273ms/step - loss: 0.6247 - accuracy: 0.7744 - val_loss: 1.1182 - val_accuracy: 0.6152\n",
      "Epoch 36/50\n",
      "448/448 [==============================] - 126s 281ms/step - loss: 0.5990 - accuracy: 0.7838 - val_loss: 1.1056 - val_accuracy: 0.6161\n",
      "Epoch 37/50\n",
      "448/448 [==============================] - 123s 275ms/step - loss: 0.5831 - accuracy: 0.7886 - val_loss: 1.1008 - val_accuracy: 0.6228\n",
      "Epoch 38/50\n",
      "448/448 [==============================] - 124s 276ms/step - loss: 0.5633 - accuracy: 0.7964 - val_loss: 1.1271 - val_accuracy: 0.6170\n",
      "Epoch 39/50\n",
      "448/448 [==============================] - 122s 272ms/step - loss: 0.5375 - accuracy: 0.8062 - val_loss: 1.1264 - val_accuracy: 0.6169\n",
      "Epoch 40/50\n",
      "448/448 [==============================] - 122s 272ms/step - loss: 0.5239 - accuracy: 0.8125 - val_loss: 1.1279 - val_accuracy: 0.6222\n",
      "Epoch 41/50\n",
      "448/448 [==============================] - 122s 272ms/step - loss: 0.5102 - accuracy: 0.8138 - val_loss: 1.1260 - val_accuracy: 0.6222\n",
      "Epoch 42/50\n",
      "448/448 [==============================] - 124s 277ms/step - loss: 0.4939 - accuracy: 0.8207 - val_loss: 1.1513 - val_accuracy: 0.6232\n",
      "Epoch 43/50\n",
      "448/448 [==============================] - 122s 273ms/step - loss: 0.4836 - accuracy: 0.8239 - val_loss: 1.1526 - val_accuracy: 0.6212\n",
      "Epoch 44/50\n",
      "448/448 [==============================] - 122s 273ms/step - loss: 0.4626 - accuracy: 0.8336 - val_loss: 1.1674 - val_accuracy: 0.6203\n",
      "Epoch 45/50\n",
      "448/448 [==============================] - 122s 272ms/step - loss: 0.4547 - accuracy: 0.8357 - val_loss: 1.1737 - val_accuracy: 0.6239\n",
      "Epoch 46/50\n",
      "448/448 [==============================] - 123s 274ms/step - loss: 0.4392 - accuracy: 0.8421 - val_loss: 1.1679 - val_accuracy: 0.6249\n",
      "Epoch 47/50\n",
      "448/448 [==============================] - 124s 277ms/step - loss: 0.4213 - accuracy: 0.8484 - val_loss: 1.1909 - val_accuracy: 0.6193\n",
      "Epoch 48/50\n",
      "448/448 [==============================] - 122s 272ms/step - loss: 0.4081 - accuracy: 0.8522 - val_loss: 1.2016 - val_accuracy: 0.6198\n",
      "Epoch 49/50\n",
      "448/448 [==============================] - 122s 272ms/step - loss: 0.3986 - accuracy: 0.8561 - val_loss: 1.1866 - val_accuracy: 0.6256\n",
      "Epoch 50/50\n",
      "448/448 [==============================] - 122s 272ms/step - loss: 0.3863 - accuracy: 0.8613 - val_loss: 1.1906 - val_accuracy: 0.6271\n"
     ]
    }
   ],
   "source": [
    "train_dir = os.path.join('data','train')\n",
    "val_dir = os.path.join('data','test')\n",
    "train_datagen = ImageDataGenerator(rescale=1./255)\n",
    "val_datagen = ImageDataGenerator(rescale=1./255)\n",
    "\n",
    "train_generator = train_datagen.flow_from_directory(\n",
    "        train_dir,\n",
    "        target_size=(48,48),\n",
    "        batch_size= 64,\n",
    "        color_mode=\"grayscale\",\n",
    "        class_mode='categorical')\n",
    "\n",
    "validation_generator = val_datagen.flow_from_directory(\n",
    "        val_dir,\n",
    "        target_size=(48,48),\n",
    "        batch_size= 64,\n",
    "        color_mode=\"grayscale\",\n",
    "        class_mode='categorical')\n",
    "\n",
    "emotion_model = Sequential()\n",
    "emotion_model.add(Conv2D(32, kernel_size=(3, 3), activation='relu', input_shape=(48,48,1)))\n",
    "emotion_model.add(Conv2D(64, kernel_size=(3, 3), activation='relu'))\n",
    "emotion_model.add(MaxPooling2D(pool_size=(2, 2)))\n",
    "emotion_model.add(Dropout(0.25))\n",
    "\n",
    "emotion_model.add(Conv2D(128, kernel_size=(3, 3), activation='relu'))\n",
    "emotion_model.add(MaxPooling2D(pool_size=(2, 2)))\n",
    "emotion_model.add(Conv2D(128, kernel_size=(3, 3), activation='relu'))\n",
    "emotion_model.add(MaxPooling2D(pool_size=(2, 2)))\n",
    "emotion_model.add(Dropout(0.25))\n",
    "\n",
    "emotion_model.add(Flatten())\n",
    "emotion_model.add(Dense(1024, activation='relu'))\n",
    "emotion_model.add(Dropout(0.5))\n",
    "emotion_model.add(Dense(7, activation='softmax'))\n",
    "# emotion_model.load_weights('emotion_model.h5')\n",
    "\n",
    "\n",
    "\n",
    "\n",
    "emotion_model.compile(loss='categorical_crossentropy',optimizer=Adam(lr=0.0001, decay=1e-6),metrics=['accuracy'])\n",
    "emotion_model_info = emotion_model.fit(\n",
    "        train_generator,\n",
    "        steps_per_epoch=28709 // 64,\n",
    "        epochs=50,\n",
    "        validation_data=validation_generator,\n",
    "        validation_steps=7178 // 64)\n",
    "emotion_model.save_weights('models/emotion_model.h5')"
   ]
  },
  {
   "cell_type": "markdown",
   "id": "47e2e373-9e16-4938-8434-2a42a011680c",
   "metadata": {},
   "source": [
    "### Training Results"
   ]
  },
  {
   "cell_type": "code",
   "execution_count": 47,
   "id": "2f9ff285-3f89-4387-99fb-40e455a01186",
   "metadata": {},
   "outputs": [
    {
     "data": {
      "image/png": "[encoded data removed]",
      "text/plain": [
       "<Figure size 432x288 with 1 Axes>"
      ]
     },
     "metadata": {
      "needs_background": "light"
     },
     "output_type": "display_data"
    },
    {
     "data": {
      "image/png": "[encoded data removed]",
      "text/plain": [
       "<Figure size 432x288 with 1 Axes>"
      ]
     },
     "metadata": {
      "needs_background": "light"
     },
     "output_type": "display_data"
    }
   ],
   "source": [
    "def plot_training(model_history, measure):\n",
    "    plt.plot(model_history.history[measure])\n",
    "    plt.plot(model_history.history['val_'+measure])\n",
    "    plt.xlabel('Epochs')\n",
    "    plt.ylabel(measure)\n",
    "    plt.legend(['training '+ measure,'validation '+ measure])\n",
    "    plt.show()\n",
    "    \n",
    "plot_training(emotion_model_info, 'accuracy')\n",
    "plot_training(emotion_model_info, 'loss')"
   ]
  },
  {
   "cell_type": "code",
   "execution_count": 41,
   "id": "e75626e9-daa6-4cc3-9ca4-89131d7e30df",
   "metadata": {},
   "outputs": [],
   "source": [
    "emotion_model.save('models/emotion_model_full.h5')"
   ]
  },
  {
   "cell_type": "markdown",
   "id": "44c382ec-bade-4d4b-a66a-6b7c2d3137ad",
   "metadata": {},
   "source": [
    " ## Load Model for testing"
   ]
  },
  {
   "cell_type": "markdown",
   "id": "45127cda-aff9-439f-886e-8f3e9ddeb4ce",
   "metadata": {},
   "source": [
    "This is a model that is able to be trained quickly on 1-2 epochs, and can be used to test the rest of the code"
   ]
  },
  {
   "cell_type": "code",
   "execution_count": 42,
   "id": "36769850-dc1b-4fdc-abe3-c0e1e60c276f",
   "metadata": {},
   "outputs": [],
   "source": [
    "emotion_model_path = os.path.join('models','emotion_model_full.h5')\n",
    "emotion_model = tf.keras.models.load_model(emotion_model_path)"
   ]
  },
  {
   "cell_type": "markdown",
   "id": "1dc61ac1-2a6f-40a6-b186-02bff0272548",
   "metadata": {},
   "source": [
    "## Webcam image capture"
   ]
  },
  {
   "cell_type": "markdown",
   "id": "089fe7b3-b9b7-4214-80da-69eb1a377add",
   "metadata": {},
   "source": [
    "This section of the code activate the users webcam, isolates a face, and passes an image of the face into the model for predictions. \n",
    "- The model will print a number between 0 and 6 with its prediction for the emotion you are displaying.\n",
    "**Pres the stop key to when you are done to disable your webcam and end predictions.**"
   ]
  },
  {
   "cell_type": "code",
   "execution_count": 43,
   "id": "9f0e4489-bead-43c2-9f1a-eeafc3fa8426",
   "metadata": {},
   "outputs": [
    {
     "name": "stdout",
     "output_type": "stream",
     "text": [
      "4\n",
      "4\n",
      "3\n",
      "3\n",
      "3\n",
      "3\n",
      "3\n",
      "3\n",
      "3\n",
      "0\n",
      "0\n",
      "0\n",
      "4\n",
      "2\n",
      "4\n",
      "3\n",
      "3\n",
      "3\n",
      "3\n",
      "3\n",
      "3\n",
      "3\n",
      "3\n",
      "3\n",
      "2\n",
      "2\n",
      "4\n",
      "6\n",
      "6\n",
      "6\n",
      "2\n",
      "2\n",
      "6\n",
      "6\n",
      "4\n",
      "6\n",
      "6\n",
      "3\n",
      "6\n",
      "6\n",
      "KeyboardInterrupt()\n"
     ]
    }
   ],
   "source": [
    "cv2.ocl.setUseOpenCL(False)\n",
    "emotion_dict = {0: \"Angry\",\n",
    "                1: \"Disgusted\",\n",
    "                2: \"Fearful\",\n",
    "                3: \"Happy\",\n",
    "                4: \"Neutral\",\n",
    "                5: \"Sad\",\n",
    "                6: \"Surprised\"}\n",
    "bounding_box_path = os.path.join('xml','haarcascade_frontalface_default.xml')\n",
    "# start the webcam feed\n",
    "try:\n",
    "    cap = cv2.VideoCapture(0)\n",
    "    while True:\n",
    "        # Find haar cascade to draw bounding box around face\n",
    "        ret, frame = cap.read()\n",
    "        if not ret:\n",
    "            break\n",
    "        bounding_box = cv2.CascadeClassifier(bounding_box_path)\n",
    "        gray_frame = cv2.cvtColor(frame, cv2.COLOR_BGR2GRAY)\n",
    "        num_faces = bounding_box.detectMultiScale(gray_frame,scaleFactor=1.3, minNeighbors=5)\n",
    "\n",
    "        for (x, y, w, h) in num_faces:\n",
    "            cv2.rectangle(frame, (x, y-50), (x+w, y+h+10), (255, 0, 0), 2)\n",
    "            roi_gray_frame = gray_frame[y:y + h, x:x + w]\n",
    "            cropped_img = np.expand_dims(np.expand_dims(cv2.resize(roi_gray_frame, (48, 48)), -1), 0)\n",
    "            emotion_prediction = emotion_model.predict(cropped_img)\n",
    "            maxindex = int(np.argmax(emotion_prediction))\n",
    "            cv2.putText(frame, emotion_dict[maxindex], (x+20, y-60), cv2.FONT_HERSHEY_SIMPLEX, 1, (255, 255, 255), 2, cv2.LINE_AA)\n",
    "            print(maxindex)\n",
    "\n",
    "        cv2.imshow('Video', cv2.resize(frame,(1200,860),interpolation = cv2.INTER_CUBIC))\n",
    "        if cv2.waitKey(1) & 0xFF == ord('q'):\n",
    "            break\n",
    "            \n",
    "except (KeyboardInterrupt, Exception) as e:\n",
    "    cap.release()\n",
    "    cv2.destroyAllWindows()\n",
    "    print(repr(e))\n",
    "\n",
    "cap.release()\n",
    "cv2.destroyAllWindows()"
   ]
  },
  {
   "cell_type": "code",
   "execution_count": null,
   "id": "7504d605-faff-440b-a280-06f1b1c2d81d",
   "metadata": {},
   "outputs": [],
   "source": []
  }
 ],
 "metadata": {
  "kernelspec": {
   "display_name": "Python 3",
   "language": "python",
   "name": "python3"
  },
  "language_info": {
   "codemirror_mode": {
    "name": "ipython",
    "version": 3
   },
   "file_extension": ".py",
   "mimetype": "text/x-python",
   "name": "python",
   "nbconvert_exporter": "python",
   "pygments_lexer": "ipython3",
   "version": "3.8.10"
  }
 },
 "nbformat": 4,
 "nbformat_minor": 5
}

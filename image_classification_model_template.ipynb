{
 "cells": [
  {
   "cell_type": "code",
   "execution_count": 136,
   "id": "1b8a78a5-a193-403d-8985-bebf2f8a13e4",
   "metadata": {},
   "outputs": [],
   "source": [
    "import os\n",
    "import tensorflow as tf\n",
    "from keras_preprocessing import image\n",
    "from keras_preprocessing.image import ImageDataGenerator\n",
    "import matplotlib.pyplot as plt\n",
    "from tensorflow.keras.optimizers import RMSprop\n",
    "import tensorflow_addons as tfa"
   ]
  },
  {
   "cell_type": "code",
   "execution_count": 116,
   "id": "329fe4bd-5051-4a00-bde5-c11c28ef46a0",
   "metadata": {},
   "outputs": [],
   "source": [
    "dir_training = \"data/train\"\n",
    "dir_validation = \"data/test\""
   ]
  },
  {
   "cell_type": "code",
   "execution_count": 117,
   "id": "c43bea05-a54c-4fec-a76f-b6cda50f00c3",
   "metadata": {},
   "outputs": [
    {
     "name": "stdout",
     "output_type": "stream",
     "text": [
      "Found 28709 images belonging to 7 classes.\n",
      "Found 7178 images belonging to 7 classes.\n"
     ]
    }
   ],
   "source": [
    "# Configure tensorflow to generate training data from image directory, and normalize the image data\n",
    "train_datagen = ImageDataGenerator(rescale=1.0/255)\n",
    "train_generator = train_datagen.flow_from_directory(dir_training,\n",
    "                                                   batch_size = 64,\n",
    "                                                   class_mode='categorical',\n",
    "                                                   color_mode='grayscale',\n",
    "                                                   target_size=(48,48))\n",
    "\n",
    "# Configure tensorflow to generate validation data from image directory, and normalize the image data\n",
    "validation_datagen = ImageDataGenerator(rescale=1.0/255) \n",
    "validation_generator = validation_datagen.flow_from_directory(dir_validation,\n",
    "                                                             batch_size = 64,\n",
    "                                                             class_mode='categorical',\n",
    "                                                             color_mode='grayscale',\n",
    "                                                             target_size=(48,48))"
   ]
  },
  {
   "cell_type": "code",
   "execution_count": null,
   "id": "b0360476-f802-4bb5-a8bf-79ed0e20be4d",
   "metadata": {},
   "outputs": [],
   "source": []
  },
  {
   "cell_type": "code",
   "execution_count": 144,
   "id": "925162e9-f4ef-40e7-80f0-530a645683cd",
   "metadata": {},
   "outputs": [],
   "source": [
    "rectified_adam = tfa.optimizers.RectifiedAdam(learning_rate =0.001, decay=1e-5)\n",
    "ranger = tfa.optimizers.Lookahead(rectified_adam,\n",
    "                                  sync_period = 6,\n",
    "                                  slow_step_size = 0.5)\n",
    "mish = tfa.activations.mish\n",
    "#deep neural network model for image classification\n",
    "model = tf.keras.models.Sequential([\n",
    "    # Alternating convolution and pooling layers to process the images before analysis\n",
    "    # The convulation layers accent features from the images\n",
    "    # The pooling layers reduce the amount of information to process\n",
    "    tf.keras.layers.Conv2D(32,(3,3), activation = mish, input_shape = (48,48,1)),\n",
    "    tf.keras.layers.Conv2D(64,(3,3), activation = mish),\n",
    "    tf.keras.layers.MaxPooling2D(2,2),\n",
    "    tf.keras.layers.Dropout(0.25),\n",
    "    tf.keras.layers.Conv2D(128,(3,3), activation = mish),\n",
    "    tf.keras.layers.MaxPooling2D(2,2),\n",
    "    tf.keras.layers.Conv2D(128,(3,3), activation = mish),\n",
    "    tf.keras.layers.MaxPooling2D(2,2),\n",
    "    tf.keras.layers.Dropout(0.25),\n",
    "    # Flatten the images for analysis by the nn\n",
    "    tf.keras.layers.Flatten(),\n",
    "    # neuron layers for image classification 512 neuron hidden layer, with a 7 nueron output layer\n",
    "    tf.keras.layers.Dense(1024, activation = mish),\n",
    "    tf.keras.layers.Dense(7, activation = 'softmax')])\n",
    "\n",
    "model.compile(optimizer=ranger,\n",
    "              loss='categorical_crossentropy',\n",
    "              metrics=['acc'])"
   ]
  },
  {
   "cell_type": "code",
   "execution_count": null,
   "id": "6ea8a840-57c2-42c7-8688-2e767183e2e0",
   "metadata": {},
   "outputs": [
    {
     "name": "stdout",
     "output_type": "stream",
     "text": [
      "Epoch 1/20\n",
      "449/449 [==============================] - 237s 521ms/step - loss: 1.7460 - acc: 0.2994 - val_loss: 1.6083 - val_acc: 0.3930\n",
      "Epoch 2/20\n",
      "449/449 [==============================] - 224s 498ms/step - loss: 1.5294 - acc: 0.4124 - val_loss: 1.5048 - val_acc: 0.4249\n",
      "Epoch 3/20\n",
      "449/449 [==============================] - 215s 478ms/step - loss: 1.4044 - acc: 0.4671 - val_loss: 1.3604 - val_acc: 0.4802\n",
      "Epoch 4/20\n",
      "449/449 [==============================] - 223s 496ms/step - loss: 1.3190 - acc: 0.5022 - val_loss: 1.2942 - val_acc: 0.5152\n",
      "Epoch 5/20\n",
      "449/449 [==============================] - 221s 492ms/step - loss: 1.2425 - acc: 0.5282 - val_loss: 1.2177 - val_acc: 0.5379\n",
      "Epoch 6/20\n",
      "449/449 [==============================] - 216s 480ms/step - loss: 1.1732 - acc: 0.5568 - val_loss: 1.1752 - val_acc: 0.5525\n",
      "Epoch 7/20\n",
      "449/449 [==============================] - 208s 464ms/step - loss: 1.0876 - acc: 0.5907 - val_loss: 1.1537 - val_acc: 0.5656\n",
      "Epoch 8/20\n",
      "449/449 [==============================] - 216s 482ms/step - loss: 0.9957 - acc: 0.6279 - val_loss: 1.1296 - val_acc: 0.5780\n",
      "Epoch 9/20\n",
      "449/449 [==============================] - 214s 477ms/step - loss: 0.8713 - acc: 0.6763 - val_loss: 1.1115 - val_acc: 0.5935\n",
      "Epoch 10/20\n",
      "449/449 [==============================] - 211s 469ms/step - loss: 0.7175 - acc: 0.7346 - val_loss: 1.1528 - val_acc: 0.5964\n",
      "Epoch 11/20\n",
      "449/449 [==============================] - 216s 481ms/step - loss: 0.5551 - acc: 0.8022 - val_loss: 1.1959 - val_acc: 0.6057\n",
      "Epoch 12/20\n",
      "449/449 [==============================] - 214s 476ms/step - loss: 0.4146 - acc: 0.8537 - val_loss: 1.2690 - val_acc: 0.6115\n",
      "Epoch 13/20\n",
      "449/449 [==============================] - 215s 479ms/step - loss: 0.2977 - acc: 0.9010 - val_loss: 1.3485 - val_acc: 0.6119\n",
      "Epoch 14/20\n",
      "449/449 [==============================] - 209s 466ms/step - loss: 0.2243 - acc: 0.9264 - val_loss: 1.4332 - val_acc: 0.6056\n",
      "Epoch 15/20\n",
      "449/449 [==============================] - 208s 464ms/step - loss: 0.1710 - acc: 0.9460 - val_loss: 1.5471 - val_acc: 0.6121\n",
      "Epoch 16/20\n",
      "449/449 [==============================] - 216s 480ms/step - loss: 0.1383 - acc: 0.9579 - val_loss: 1.4953 - val_acc: 0.6031\n",
      "Epoch 17/20\n",
      "111/449 [======>.......................] - ETA: 2:29 - loss: 0.1046 - acc: 0.9676"
     ]
    }
   ],
   "source": [
    "history = model.fit(train_generator,\n",
    "                      epochs= 20,\n",
    "                      verbose=1,\n",
    "                      validation_data=validation_generator)"
   ]
  },
  {
   "cell_type": "code",
   "execution_count": 143,
   "id": "935669be-a5df-4fe2-916d-b3d19bb8256b",
   "metadata": {},
   "outputs": [
    {
     "data": {
      "image/png": "[encoded data removed]",
      "text/plain": [
       "<Figure size 432x288 with 1 Axes>"
      ]
     },
     "metadata": {
      "needs_background": "light"
     },
     "output_type": "display_data"
    },
    {
     "data": {
      "image/png": "[encoded data removed]",
      "text/plain": [
       "<Figure size 432x288 with 1 Axes>"
      ]
     },
     "metadata": {
      "needs_background": "light"
     },
     "output_type": "display_data"
    }
   ],
   "source": [
    "def plot_training(model_history, measure):\n",
    "    plt.plot(model_history.history[measure])\n",
    "    plt.plot(model_history.history['val_'+measure])\n",
    "    plt.xlabel('Epochs')\n",
    "    plt.ylabel(measure)\n",
    "    plt.legend(['training '+ measure,'validation '+ measure])\n",
    "    plt.show()\n",
    "    \n",
    "plot_training(history, 'acc')\n",
    "plot_training(history, 'loss')"
   ]
  },
  {
   "cell_type": "code",
   "execution_count": 130,
   "id": "c56070f5-48b7-403c-a8ea-6ceb6aec7b93",
   "metadata": {},
   "outputs": [],
   "source": [
    "model.save('models/simple_model.h5')"
   ]
  },
  {
   "cell_type": "code",
   "execution_count": 133,
   "id": "874ffb5a-1406-4ae6-9a8e-9bc9099b1137",
   "metadata": {},
   "outputs": [],
   "source": [
    "model.save_weights('models/simple_model_weights.h5')"
   ]
  },
  {
   "cell_type": "code",
   "execution_count": null,
   "id": "c65374df-5eaa-4275-a899-262f160c0a30",
   "metadata": {},
   "outputs": [],
   "source": []
  }
 ],
 "metadata": {
  "kernelspec": {
   "display_name": "Python 3",
   "language": "python",
   "name": "python3"
  },
  "language_info": {
   "codemirror_mode": {
    "name": "ipython",
    "version": 3
   },
   "file_extension": ".py",
   "mimetype": "text/x-python",
   "name": "python",
   "nbconvert_exporter": "python",
   "pygments_lexer": "ipython3",
   "version": "3.8.10"
  }
 },
 "nbformat": 4,
 "nbformat_minor": 5
}

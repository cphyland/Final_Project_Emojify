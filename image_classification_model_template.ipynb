{
 "cells": [
  {
   "cell_type": "code",
   "execution_count": null,
   "id": "f68e8563-423b-45a3-bfa9-73a59966473a",
   "metadata": {},
   "outputs": [],
   "source": [
    "dir_validation_cats = os.path.join(dir_validation, 'cats')\n",
    "tmp_train = os.path.join(data_path,\"train\")"
   ]
  },
  {
   "cell_type": "code",
   "execution_count": null,
   "id": "c43bea05-a54c-4fec-a76f-b6cda50f00c3",
   "metadata": {},
   "outputs": [],
   "source": [
    "# Configure tensorflow to generate training data from image directory, and normalize the image data\n",
    "train_datagen = ImageDataGenerator(rescale=1.0/255)\n",
    "train_generator = train_datagen.flow_from_directory(dir_training,\n",
    "                                                   batch_size = 20,\n",
    "                                                   class_mode='binary',\n",
    "                                                   target_size=(48,48))\n",
    "\n",
    "# Configure tensorflow to generate validation data from image directory, and normalize the image data\n",
    "validation_datagen = ImageDataGenerator(rescale=1.0/255) \n",
    "validation_generator = validation_datagen.flow_from_directory(dir_validation,\n",
    "                                                             batch_size = 20,\n",
    "                                                             class_mode='binary',\n",
    "                                                             target_size=(48,48))"
   ]
  },
  {
   "cell_type": "code",
   "execution_count": null,
   "id": "925162e9-f4ef-40e7-80f0-530a645683cd",
   "metadata": {},
   "outputs": [],
   "source": [
    "#Keras model for image classification\n",
    "model = tf.keras.models.Sequential([\n",
    "    # Alternating convolution and pooling layers to process the images before analysis\n",
    "    # The convulation layers accent features from the images,\n",
    "    # The pooling layers reduce the amount of information to process\n",
    "    tf.keras.layers.Conv2D(32,(3,3), activation='relu', input_shape=(200,200,3)),\n",
    "    tf.keras.layers.MaxPooling2D(2,2),\n",
    "    tf.keras.layers.Conv2D(64,(3,3), activation='relu'),\n",
    "    tf.keras.layers.MaxPooling2D(2,2),\n",
    "    tf.keras.layers.Conv2D(128,(3,3), activation='relu'),\n",
    "    tf.keras.layers.MaxPooling2D(2,2),\n",
    "    tf.keras.layers.Conv2D(128,(3,3), activation='relu'),\n",
    "    tf.keras.layers.MaxPooling2D(2,2),\n",
    "    # Flatten the images for analysis by the nn\n",
    "    tf.keras.layers.Flatten(),\n",
    "    # Neural network for image classification 256 neuron hidden layer, with a 1 nueron output layer\n",
    "    tf.keras.layers.Dense(512, activation='relu'),\n",
    "    tf.keras.layers.Dense(1, activation ='sigmoid')\n",
    "])\n",
    "\n",
    "model.compile(optimizer=RMSprop(learning_rate=0.001),\n",
    "              loss='binary_crossentropy',\n",
    "              metrics=['acc'])"
   ]
  },
  {
   "cell_type": "code",
   "execution_count": null,
   "id": "6ea8a840-57c2-42c7-8688-2e767183e2e0",
   "metadata": {},
   "outputs": [],
   "source": [
    "history = model.fit(train_generator,\n",
    "                      epochs=10,\n",
    "                      steps_per_epoch=1125,\n",
    "                      validation_steps=125,\n",
    "                      verbose=1,\n",
    "                      validation_data=validation_generator)"
   ]
  }
 ],
 "metadata": {
  "kernelspec": {
   "display_name": "Python 3",
   "language": "python",
   "name": "python3"
  },
  "language_info": {
   "codemirror_mode": {
    "name": "ipython",
    "version": 3
   },
   "file_extension": ".py",
   "mimetype": "text/x-python",
   "name": "python",
   "nbconvert_exporter": "python",
   "pygments_lexer": "ipython3",
   "version": "3.8.10"
  }
 },
 "nbformat": 4,
 "nbformat_minor": 5
}
